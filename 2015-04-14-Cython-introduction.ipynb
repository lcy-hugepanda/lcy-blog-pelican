{
 "cells": [
  {
   "cell_type": "markdown",
   "metadata": {},
   "source": [
    "# 用Cython加速Python程序的一个简单例子"
   ]
  },
  {
   "cell_type": "markdown",
   "metadata": {},
   "source": [
    "Python是我们非常喜欢的一种语言，我们的LOGO中的“L”就是一条代表了Python的蛇 :)\n",
    "\n",
    "然而，由于Python本身的语言特性，使得它在特定的情况下会出现速度瓶颈，本文就使用Cython做一个简单的例子，说明如何使用C和Python的混合（这大概并不是精确意义下的混合编程）达到优化Python程序的目的。\n",
    "\n",
    "### 几点说明：\n",
    "- 本文大量参考了参考文献[1]\n",
    "- 本文的写作环境使用Python 2.7, IPython Notebook 1.1.0, Cython 0.17.2和Windows 7 64bit\n",
    "- 为了展示方便，本文并没有描述如何在实际开发环境中编译和使用Cython模块，请参考官方文档（http://docs.cython.org/src/tutorial/cython_tutorial.html）\n",
    "- Cython、Numba、PyPy等都可以用于优化Python程序的运行效率，numpy等专门进行科学计算的模块本身也会有优化，请不要把自己的思路限制在这里\n",
    "- Cython实际上是一种新的编程语言，主要用于开发Python扩展模块，我们基于Cython所做的优化，本质是使用了Cython这种编程语言编写了融合C和Python风格的程序，然后通过编译称为程序模块，如其官方文档所说：[Cython] is a programming language that makes writing C extensions for the Python language as easy as Python itself. It aims to become a superset of the [Python] language which gives it high-level, object-oriented, functional, and dynamic programming. Its main feature on top of these is support for optional static type declarations as part of the language. The source code gets translated into optimized C/C++ code and compiled as Python extension modules. This allows for both very fast program execution and tight integration with external C libraries, while keeping up the high programmer productivity for which the Python language is well known. [2]\n",
    "- 关于Cython在ipn中的使用，请参见：http://docs.cython.org/src/quickstart/build.html"
   ]
  },
  {
   "cell_type": "markdown",
   "metadata": {},
   "source": [
    "#### 首先，为ipn设置ipython环境"
   ]
  },
  {
   "cell_type": "code",
   "execution_count": 190,
   "metadata": {
    "collapsed": false
   },
   "outputs": [],
   "source": [
    "%load_ext cythonmagic"
   ]
  },
  {
   "cell_type": "markdown",
   "metadata": {},
   "source": [
    "#### 以下是我们的测试函数，这个函数来自参考文献[1]，用于计算地球表面两点之间的距离"
   ]
  },
  {
   "cell_type": "code",
   "execution_count": 169,
   "metadata": {
    "collapsed": false
   },
   "outputs": [],
   "source": [
    "import math\n",
    "\n",
    "def great_circle_1(lon1,lat1,lon2,lat2):\n",
    "    radius = 3956 #miles\n",
    "    x = math.pi/180.0\n",
    "\n",
    "    a = (90.0-lat1)*(x)\n",
    "    b = (90.0-lat2)*(x)\n",
    "    theta = (lon2-lon1)*(x)\n",
    "    c = math.acos((math.cos(a)*math.cos(b))+(math.sin(a)*math.sin(b)*math.cos(theta)))\n",
    "\n",
    "    return radius*c"
   ]
  },
  {
   "cell_type": "code",
   "execution_count": 170,
   "metadata": {
    "collapsed": false
   },
   "outputs": [
    {
     "name": "stdout",
     "output_type": "stream",
     "text": [
      "Wall time: 1.16 s\n"
     ]
    }
   ],
   "source": [
    "%%time\n",
    "lon1, lat1, lon2, lat2 = -72.345, 34.323, -61.823, 54.826\n",
    "for i in xrange(500000):\n",
    "    great_circle_1(lon1,lat1,lon2,lat2)"
   ]
  },
  {
   "cell_type": "markdown",
   "metadata": {},
   "source": [
    "#### 经过测试，得到了运行时间的baseline。\n",
    "\n",
    "在这个函数的运行过程中，数学运算占据了很大比例，Cython使我们指定变量的类型为C语言的数据类型，这也是最基本的加速手段，改动后的程序如下："
   ]
  },
  {
   "cell_type": "code",
   "execution_count": 183,
   "metadata": {
    "collapsed": false
   },
   "outputs": [],
   "source": [
    "%%cython\n",
    "import math\n",
    "\n",
    "def great_circle_2(float lon1,float lat1,float lon2,float lat2):\n",
    "    cdef float radius = 3956.0\n",
    "    cdef float pi = 3.14159265\n",
    "    cdef float x = pi/180.0\n",
    "    cdef float a,b,theta,c\n",
    "\n",
    "    a = (90.0-lat1)*(x)\n",
    "    b = (90.0-lat2)*(x)\n",
    "    theta = (lon2-lon1)*(x)\n",
    "    c = math.acos((math.cos(a)*math.cos(b)) + (math.sin(a)*math.sin(b)*math.cos(theta)))\n",
    "    return radius*c"
   ]
  },
  {
   "cell_type": "code",
   "execution_count": 184,
   "metadata": {
    "collapsed": false
   },
   "outputs": [
    {
     "name": "stdout",
     "output_type": "stream",
     "text": [
      "Wall time: 1.02 s\n"
     ]
    }
   ],
   "source": [
    "%%time\n",
    "lon1, lat1, lon2, lat2 = -72.345, 34.323, -61.823, 54.826\n",
    "for i in xrange(500000):\n",
    "    great_circle_2(lon1,lat1,lon2,lat2)"
   ]
  },
  {
   "cell_type": "markdown",
   "metadata": {},
   "source": [
    "####可以看到，速度得到了一定程度的提升\n",
    "\n",
    "这基本上可以说是最为无脑的“优化”方法。在此基础上，如果我们继续分析可以发现，性能瓶颈可能存在于Python的Math模块，Cython允许我们引入C语言的函数库，这时Cython加速的重要途径，改动后的程序如下（顺便可以把函数的定义也改成C风格的）："
   ]
  },
  {
   "cell_type": "code",
   "execution_count": 187,
   "metadata": {
    "collapsed": false
   },
   "outputs": [],
   "source": [
    "%%cython\n",
    "cdef extern from \"math.h\":\n",
    "    float cosf(float theta)\n",
    "    float sinf(float theta)\n",
    "    float acosf(float theta)\n",
    "\n",
    "cdef great_circle_3(float lon1,float lat1,float lon2,float lat2):\n",
    "    cdef float radius = 3956.0\n",
    "    cdef float pi = 3.14159265\n",
    "    cdef float x = pi/180.0\n",
    "    cdef float a,b,theta,c\n",
    "\n",
    "    a = (90.0-lat1)*(x)\n",
    "    b = (90.0-lat2)*(x)\n",
    "    theta = (lon2-lon1)*(x)\n",
    "    c = acosf((cosf(a)*cosf(b)) + (sinf(a)*sinf(b)*cosf(theta)))\n",
    "\n",
    "    return radius*c"
   ]
  },
  {
   "cell_type": "code",
   "execution_count": 188,
   "metadata": {
    "collapsed": false
   },
   "outputs": [
    {
     "name": "stdout",
     "output_type": "stream",
     "text": [
      "Wall time: 272 ms\n"
     ]
    }
   ],
   "source": [
    "%%time\n",
    "lon1, lat1, lon2, lat2 = -72.345, 34.323, -61.823, 54.826\n",
    "for i in xrange(500000):\n",
    "    great_circle_3(lon1,lat1,lon2,lat2)"
   ]
  },
  {
   "cell_type": "markdown",
   "metadata": {},
   "source": [
    "####经过测试，速度有了非常明显的提升。\n",
    "\n",
    "其实，这段程序依然有优化的空间，其中之一是使用C语言的循环代替Python的for循环，因为使用一个Python的for循环执行一个C风格的函数，会存在一些转换开销，不过，这里就不做演示咯（懒！）"
   ]
  },
  {
   "cell_type": "markdown",
   "metadata": {},
   "source": [
    "## Reference:\n",
    "[1] http://blog.perrygeo.net/2008/04/19/a-quick-cython-introduction/\n",
    "\n",
    "[2] http://docs.cython.org/src/quickstart/overview.html"
   ]
  }
 ],
 "metadata": {
  "kernelspec": {
   "display_name": "Python 2",
   "language": "python",
   "name": "python2"
  },
  "language_info": {
   "codemirror_mode": {
    "name": "ipython",
    "version": 2
   },
   "file_extension": ".py",
   "mimetype": "text/x-python",
   "name": "python",
   "nbconvert_exporter": "python",
   "pygments_lexer": "ipython2",
   "version": "2.7.3"
  }
 },
 "nbformat": 4,
 "nbformat_minor": 0
}
