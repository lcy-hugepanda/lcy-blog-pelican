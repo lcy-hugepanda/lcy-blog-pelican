{
 "metadata": {
  "name": "Exp0130_PY_CinPython"
 },
 "nbformat": 3,
 "nbformat_minor": 0,
 "worksheets": [
  {
   "cells": [
    {
     "cell_type": "markdown",
     "metadata": {},
     "source": "# \u7528Cython\u52a0\u901fPython\u7a0b\u5e8f\u7684\u4e00\u4e2a\u7b80\u5355\u4f8b\u5b50"
    },
    {
     "cell_type": "markdown",
     "metadata": {},
     "source": "Python\u662f\u6211\u4eec\u975e\u5e38\u559c\u6b22\u7684\u4e00\u79cd\u8bed\u8a00\uff0c\u6211\u4eec\u7684LOGO\u4e2d\u7684\u201cL\u201d\u5c31\u662f\u4e00\u6761\u4ee3\u8868\u4e86Python\u7684\u86c7 :)\n\n\u7136\u800c\uff0c\u7531\u4e8ePython\u672c\u8eab\u7684\u8bed\u8a00\u7279\u6027\uff0c\u4f7f\u5f97\u5b83\u5728\u7279\u5b9a\u7684\u60c5\u51b5\u4e0b\u4f1a\u51fa\u73b0\u901f\u5ea6\u74f6\u9888\uff0c\u672c\u6587\u5c31\u4f7f\u7528Cython\u505a\u4e00\u4e2a\u7b80\u5355\u7684\u4f8b\u5b50\uff0c\u8bf4\u660e\u5982\u4f55\u4f7f\u7528C\u548cPython\u7684\u6df7\u5408\uff08\u8fd9\u5927\u6982\u5e76\u4e0d\u662f\u7cbe\u786e\u610f\u4e49\u4e0b\u7684\u6df7\u5408\u7f16\u7a0b\uff09\u8fbe\u5230\u4f18\u5316Python\u7a0b\u5e8f\u7684\u76ee\u7684\u3002\n\n### \u51e0\u70b9\u8bf4\u660e\uff1a\n- \u672c\u6587\u5927\u91cf\u53c2\u8003\u4e86\u53c2\u8003\u6587\u732e[1]\n- \u672c\u6587\u7684\u5199\u4f5c\u73af\u5883\u4f7f\u7528Python 2.7, IPython Notebook 1.1.0, Cython 0.17.2\u548cWindows 7 64bit\n- \u4e3a\u4e86\u5c55\u793a\u65b9\u4fbf\uff0c\u672c\u6587\u5e76\u6ca1\u6709\u63cf\u8ff0\u5982\u4f55\u5728\u5b9e\u9645\u5f00\u53d1\u73af\u5883\u4e2d\u7f16\u8bd1\u548c\u4f7f\u7528Cython\u6a21\u5757\uff0c\u8bf7\u53c2\u8003\u5b98\u65b9\u6587\u6863\uff08http://docs.cython.org/src/tutorial/cython_tutorial.html\uff09\n- Cython\u3001Numba\u3001PyPy\u7b49\u90fd\u53ef\u4ee5\u7528\u4e8e\u4f18\u5316Python\u7a0b\u5e8f\u7684\u8fd0\u884c\u6548\u7387\uff0cnumpy\u7b49\u4e13\u95e8\u8fdb\u884c\u79d1\u5b66\u8ba1\u7b97\u7684\u6a21\u5757\u672c\u8eab\u4e5f\u4f1a\u6709\u4f18\u5316\uff0c\u8bf7\u4e0d\u8981\u628a\u81ea\u5df1\u7684\u601d\u8def\u9650\u5236\u5728\u8fd9\u91cc\n- Cython\u5b9e\u9645\u4e0a\u662f\u4e00\u79cd\u65b0\u7684\u7f16\u7a0b\u8bed\u8a00\uff0c\u4e3b\u8981\u7528\u4e8e\u5f00\u53d1Python\u6269\u5c55\u6a21\u5757\uff0c\u6211\u4eec\u57fa\u4e8eCython\u6240\u505a\u7684\u4f18\u5316\uff0c\u672c\u8d28\u662f\u4f7f\u7528\u4e86Cython\u8fd9\u79cd\u7f16\u7a0b\u8bed\u8a00\u7f16\u5199\u4e86\u878d\u5408C\u548cPython\u98ce\u683c\u7684\u7a0b\u5e8f\uff0c\u7136\u540e\u901a\u8fc7\u7f16\u8bd1\u79f0\u4e3a\u7a0b\u5e8f\u6a21\u5757\uff0c\u5982\u5176\u5b98\u65b9\u6587\u6863\u6240\u8bf4\uff1a[Cython] is a programming language that makes writing C extensions for the Python language as easy as Python itself. It aims to become a superset of the [Python] language which gives it high-level, object-oriented, functional, and dynamic programming. Its main feature on top of these is support for optional static type declarations as part of the language. The source code gets translated into optimized C/C++ code and compiled as Python extension modules. This allows for both very fast program execution and tight integration with external C libraries, while keeping up the high programmer productivity for which the Python language is well known. [2]\n- \u5173\u4e8eCython\u5728ipn\u4e2d\u7684\u4f7f\u7528\uff0c\u8bf7\u53c2\u89c1\uff1ahttp://docs.cython.org/src/quickstart/build.html"
    },
    {
     "cell_type": "markdown",
     "metadata": {},
     "source": "#### \u9996\u5148\uff0c\u4e3aipn\u8bbe\u7f6eipython\u73af\u5883"
    },
    {
     "cell_type": "code",
     "collapsed": false,
     "input": "%load_ext cythonmagic",
     "language": "python",
     "metadata": {},
     "outputs": [],
     "prompt_number": 190
    },
    {
     "cell_type": "markdown",
     "metadata": {},
     "source": "#### \u4ee5\u4e0b\u662f\u6211\u4eec\u7684\u6d4b\u8bd5\u51fd\u6570\uff0c\u8fd9\u4e2a\u51fd\u6570\u6765\u81ea\u53c2\u8003\u6587\u732e[1]\uff0c\u7528\u4e8e\u8ba1\u7b97\u5730\u7403\u8868\u9762\u4e24\u70b9\u4e4b\u95f4\u7684\u8ddd\u79bb"
    },
    {
     "cell_type": "code",
     "collapsed": false,
     "input": "import math\n\ndef great_circle_1(lon1,lat1,lon2,lat2):\n    radius = 3956 #miles\n    x = math.pi/180.0\n\n    a = (90.0-lat1)*(x)\n    b = (90.0-lat2)*(x)\n    theta = (lon2-lon1)*(x)\n    c = math.acos((math.cos(a)*math.cos(b))+(math.sin(a)*math.sin(b)*math.cos(theta)))\n\n    return radius*c",
     "language": "python",
     "metadata": {},
     "outputs": [],
     "prompt_number": 169
    },
    {
     "cell_type": "code",
     "collapsed": false,
     "input": "%%time\nlon1, lat1, lon2, lat2 = -72.345, 34.323, -61.823, 54.826\nfor i in xrange(500000):\n    great_circle_1(lon1,lat1,lon2,lat2)",
     "language": "python",
     "metadata": {},
     "outputs": [
      {
       "output_type": "stream",
       "stream": "stdout",
       "text": "Wall time: 1.16 s\n"
      }
     ],
     "prompt_number": 170
    },
    {
     "cell_type": "markdown",
     "metadata": {},
     "source": "#### \u7ecf\u8fc7\u6d4b\u8bd5\uff0c\u5f97\u5230\u4e86\u8fd0\u884c\u65f6\u95f4\u7684baseline\u3002\u5728\u8fd9\u4e2a\u51fd\u6570\u7684\u8fd0\u884c\u8fc7\u7a0b\u4e2d\uff0c\u6570\u5b66\u8fd0\u7b97\u5360\u636e\u4e86\u5f88\u5927\u6bd4\u4f8b\uff0cCython\u4f7f\u6211\u4eec\u6307\u5b9a\u53d8\u91cf\u7684\u7c7b\u578b\u4e3aC\u8bed\u8a00\u7684\u6570\u636e\u7c7b\u578b\uff0c\u8fd9\u4e5f\u662f\u6700\u57fa\u672c\u7684\u52a0\u901f\u624b\u6bb5\uff0c\u6539\u52a8\u540e\u7684\u7a0b\u5e8f\u5982\u4e0b\uff1a"
    },
    {
     "cell_type": "code",
     "collapsed": false,
     "input": "%%cython\nimport math\n\ndef great_circle_2(float lon1,float lat1,float lon2,float lat2):\n    cdef float radius = 3956.0\n    cdef float pi = 3.14159265\n    cdef float x = pi/180.0\n    cdef float a,b,theta,c\n\n    a = (90.0-lat1)*(x)\n    b = (90.0-lat2)*(x)\n    theta = (lon2-lon1)*(x)\n    c = math.acos((math.cos(a)*math.cos(b)) + (math.sin(a)*math.sin(b)*math.cos(theta)))\n    return radius*c",
     "language": "python",
     "metadata": {},
     "outputs": [],
     "prompt_number": 183
    },
    {
     "cell_type": "code",
     "collapsed": false,
     "input": "%%time\nlon1, lat1, lon2, lat2 = -72.345, 34.323, -61.823, 54.826\nfor i in xrange(500000):\n    great_circle_2(lon1,lat1,lon2,lat2)",
     "language": "python",
     "metadata": {},
     "outputs": [
      {
       "output_type": "stream",
       "stream": "stdout",
       "text": "Wall time: 1.02 s\n"
      }
     ],
     "prompt_number": 184
    },
    {
     "cell_type": "markdown",
     "metadata": {},
     "source": "#### \u53ef\u4ee5\u770b\u5230\uff0c\u901f\u5ea6\u5f97\u5230\u4e86\u4e00\u5b9a\u7a0b\u5ea6\u7684\u63d0\u5347\uff0c\u8fd9\u57fa\u672c\u4e0a\u53ef\u4ee5\u8bf4\u662f\u6700\u4e3a\u65e0\u8111\u7684\u201c\u4f18\u5316\u201d\u65b9\u6cd5\u3002\u5728\u6b64\u57fa\u7840\u4e0a\uff0c\u5982\u679c\u6211\u4eec\u7ee7\u7eed\u5206\u6790\u53ef\u4ee5\u53d1\u73b0\uff0c\u6027\u80fd\u74f6\u9888\u53ef\u80fd\u5b58\u5728\u4e8ePython\u7684Math\u6a21\u5757\uff0cCython\u5141\u8bb8\u6211\u4eec\u5f15\u5165C\u8bed\u8a00\u7684\u51fd\u6570\u5e93\uff0c\u8fd9\u65f6Cython\u52a0\u901f\u7684\u91cd\u8981\u9014\u5f84\uff0c\u6539\u52a8\u540e\u7684\u7a0b\u5e8f\u5982\u4e0b\uff08\u987a\u4fbf\u53ef\u4ee5\u628a\u51fd\u6570\u7684\u5b9a\u4e49\u4e5f\u6539\u6210C\u98ce\u683c\u7684\uff09\uff1a"
    },
    {
     "cell_type": "code",
     "collapsed": false,
     "input": "%%cython\ncdef extern from \"math.h\":\n    float cosf(float theta)\n    float sinf(float theta)\n    float acosf(float theta)\n\ncdef great_circle_3(float lon1,float lat1,float lon2,float lat2):\n    cdef float radius = 3956.0\n    cdef float pi = 3.14159265\n    cdef float x = pi/180.0\n    cdef float a,b,theta,c\n\n    a = (90.0-lat1)*(x)\n    b = (90.0-lat2)*(x)\n    theta = (lon2-lon1)*(x)\n    c = acosf((cosf(a)*cosf(b)) + (sinf(a)*sinf(b)*cosf(theta)))\n\n    return radius*c",
     "language": "python",
     "metadata": {},
     "outputs": [],
     "prompt_number": 187
    },
    {
     "cell_type": "code",
     "collapsed": false,
     "input": "%%time\nlon1, lat1, lon2, lat2 = -72.345, 34.323, -61.823, 54.826\nfor i in xrange(500000):\n    great_circle_3(lon1,lat1,lon2,lat2)",
     "language": "python",
     "metadata": {},
     "outputs": [
      {
       "output_type": "stream",
       "stream": "stdout",
       "text": "Wall time: 272 ms\n"
      }
     ],
     "prompt_number": 188
    },
    {
     "cell_type": "markdown",
     "metadata": {},
     "source": "#### \u7ecf\u8fc7\u6d4b\u8bd5\uff0c\u901f\u5ea6\u6709\u4e86\u975e\u5e38\u660e\u663e\u7684\u63d0\u5347\u3002\u5176\u5b9e\uff0c\u8fd9\u6bb5\u7a0b\u5e8f\u4f9d\u7136\u6709\u4f18\u5316\u7684\u7a7a\u95f4\uff0c\u5176\u4e2d\u4e4b\u4e00\u662f\u4f7f\u7528C\u8bed\u8a00\u7684\u5faa\u73af\u4ee3\u66ffPython\u7684for\u5faa\u73af\uff0c\u56e0\u4e3a\u4f7f\u7528\u4e00\u4e2aPython\u7684for\u5faa\u73af\u6267\u884c\u4e00\u4e2aC\u98ce\u683c\u7684\u51fd\u6570\uff0c\u4f1a\u5b58\u5728\u4e00\u4e9b\u8f6c\u6362\u5f00\u9500\uff0c\u4e0d\u8fc7\uff0c\u8fd9\u91cc\u5c31\u4e0d\u505a\u6f14\u793a\u54af\uff08\u61d2\uff01\uff09"
    },
    {
     "cell_type": "markdown",
     "metadata": {},
     "source": "## Reference:\n[1] http://blog.perrygeo.net/2008/04/19/a-quick-cython-introduction/\n\n[2] http://docs.cython.org/src/quickstart/overview.html"
    }
   ],
   "metadata": {}
  }
 ]
}